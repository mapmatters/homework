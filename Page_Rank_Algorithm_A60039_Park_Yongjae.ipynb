{
  "nbformat": 4,
  "nbformat_minor": 0,
  "metadata": {
    "colab": {
      "name": "Page Rank Algorithm - A60039 Park Yongjae",
      "provenance": [],
      "collapsed_sections": [],
      "authorship_tag": "ABX9TyM3yZrE7LVB0pyYWyu4jkFC",
      "include_colab_link": true
    },
    "kernelspec": {
      "name": "python3",
      "display_name": "Python 3"
    }
  },
  "cells": [
    {
      "cell_type": "markdown",
      "metadata": {
        "id": "view-in-github",
        "colab_type": "text"
      },
      "source": [
        "<a href=\"https://colab.research.google.com/github/mapmatters/my-exercise/blob/master/Page_Rank_Algorithm_A60039_Park_Yongjae.ipynb\" target=\"_parent\"><img src=\"https://colab.research.google.com/assets/colab-badge.svg\" alt=\"Open In Colab\"/></a>"
      ]
    },
    {
      "cell_type": "markdown",
      "metadata": {
        "id": "Mn7j7xzHXefo"
      },
      "source": [
        "## 박용재 A60039"
      ]
    },
    {
      "cell_type": "markdown",
      "metadata": {
        "id": "qco0bXZy82RN"
      },
      "source": [
        "* 라이브러리 Load (NetwrokX 활용)\n",
        "* empty graph 생성 (directed graph)\n"
      ]
    },
    {
      "cell_type": "code",
      "metadata": {
        "id": "HbvZuLa75Hxi"
      },
      "source": [
        "import matplotlib.pyplot as plt\n",
        "import networkx as nx\n",
        "import numpy as np\n",
        "\n",
        "G=nx.DiGraph()\n"
      ],
      "execution_count": 1,
      "outputs": []
    },
    {
      "cell_type": "markdown",
      "metadata": {
        "id": "tRIO6v32Xjrg"
      },
      "source": [
        "빈 graph에 node 추가하기 : add_nodes_from()\n"
      ]
    },
    {
      "cell_type": "code",
      "metadata": {
        "id": "Fq0G-SKv8z1C",
        "outputId": "ff13ff13-8aa5-4e32-c500-29dbae0613ef",
        "colab": {
          "base_uri": "https://localhost:8080/",
          "height": 85
        }
      },
      "source": [
        "# a list of nodes:\n",
        "sites = [\"A\",\"B\",\"C\",\"D\"]\n",
        "G.add_nodes_from(sites)\n",
        "\n",
        "print(\"Nodes of graph: \")\n",
        "print(G.nodes())\n",
        "print(\"Edges of graph: \")\n",
        "print(G.edges())\n"
      ],
      "execution_count": 2,
      "outputs": [
        {
          "output_type": "stream",
          "text": [
            "Nodes of graph: \n",
            "['A', 'B', 'C', 'D']\n",
            "Edges of graph: \n",
            "[]\n"
          ],
          "name": "stdout"
        }
      ]
    },
    {
      "cell_type": "markdown",
      "metadata": {
        "id": "W7Foc2A6ZG9-"
      },
      "source": [
        "Edge 여러개 동시에 생성하기: add_edges_from()"
      ]
    },
    {
      "cell_type": "code",
      "metadata": {
        "id": "mnjjz86JXzVU",
        "outputId": "0fb6d27e-3abd-49b1-9e22-fb19f641589b",
        "colab": {
          "base_uri": "https://localhost:8080/",
          "height": 85
        }
      },
      "source": [
        "sites_edges = [('A','B'), ('A','C'),('A','D'), ('B','C'),('B','D'),('C','D'),('C','A'),('D','C')]\n",
        "G.add_edges_from(sites_edges)\n",
        "\n",
        "print(\"Nodes of graph: \")\n",
        "print(G.nodes())\n",
        "print(\"Edges of graph: \")\n",
        "print(G.edges())"
      ],
      "execution_count": 3,
      "outputs": [
        {
          "output_type": "stream",
          "text": [
            "Nodes of graph: \n",
            "['A', 'B', 'C', 'D']\n",
            "Edges of graph: \n",
            "[('A', 'B'), ('A', 'C'), ('A', 'D'), ('B', 'C'), ('B', 'D'), ('C', 'D'), ('C', 'A'), ('D', 'C')]\n"
          ],
          "name": "stdout"
        }
      ]
    },
    {
      "cell_type": "markdown",
      "metadata": {
        "id": "IaFy2I7qZRg7"
      },
      "source": [
        "노드 별 out-link, in-link 갯수 확인"
      ]
    },
    {
      "cell_type": "code",
      "metadata": {
        "id": "dr08KPRFY2sU",
        "outputId": "285945d4-cbe4-42c3-fcf7-91e679c7e828",
        "colab": {
          "base_uri": "https://localhost:8080/",
          "height": 102
        }
      },
      "source": [
        "# out-link\n",
        "print(\"Count of out-links for each node:\")\n",
        "for site in sites:\n",
        "    print([\"Site %s = %s\"% (site ,str(len(G.out_edges(site))))])"
      ],
      "execution_count": 4,
      "outputs": [
        {
          "output_type": "stream",
          "text": [
            "Count of out-links for each node:\n",
            "['Site A = 3']\n",
            "['Site B = 2']\n",
            "['Site C = 2']\n",
            "['Site D = 1']\n"
          ],
          "name": "stdout"
        }
      ]
    },
    {
      "cell_type": "code",
      "metadata": {
        "id": "pXGqc_K1hc-v",
        "outputId": "7fc680cf-1af3-4fb2-ce96-f020a6953b80",
        "colab": {
          "base_uri": "https://localhost:8080/",
          "height": 85
        }
      },
      "source": [
        "# in-link\n",
        "for site in sites:\n",
        "    print([\"Site %s = %s\"% (site ,str(len(G.in_edges(site))))])"
      ],
      "execution_count": 5,
      "outputs": [
        {
          "output_type": "stream",
          "text": [
            "['Site A = 1']\n",
            "['Site B = 1']\n",
            "['Site C = 3']\n",
            "['Site D = 3']\n"
          ],
          "name": "stdout"
        }
      ]
    },
    {
      "cell_type": "markdown",
      "metadata": {
        "id": "w__VrQXwZ3wx"
      },
      "source": [
        "Garph 확인"
      ]
    },
    {
      "cell_type": "code",
      "metadata": {
        "id": "Wcw0gU3SgI8P",
        "outputId": "2989dc24-671f-49e7-f0ab-56d0977edc53",
        "colab": {
          "base_uri": "https://localhost:8080/",
          "height": 119
        }
      },
      "source": [
        "# array 형태로 보기\n",
        "g_arr = nx.to_numpy_array(G, nodelist=sites)\n",
        "print(g_arr, '\\n')\n",
        "print(g_arr[0][1])"
      ],
      "execution_count": 6,
      "outputs": [
        {
          "output_type": "stream",
          "text": [
            "[[0. 1. 1. 1.]\n",
            " [0. 0. 1. 1.]\n",
            " [1. 0. 0. 1.]\n",
            " [0. 0. 1. 0.]] \n",
            "\n",
            "1.0\n"
          ],
          "name": "stdout"
        }
      ]
    },
    {
      "cell_type": "code",
      "metadata": {
        "id": "tBPx54ajZSTi",
        "outputId": "a236a17f-5222-4802-c614-a4902902bd0d",
        "colab": {
          "base_uri": "https://localhost:8080/",
          "height": 319
        }
      },
      "source": [
        "# 그래프 형태로 보기\n",
        "nx.draw(G, with_labels = True)\n",
        "plt.show() # display"
      ],
      "execution_count": 7,
      "outputs": [
        {
          "output_type": "display_data",
          "data": {
            "image/png": "[encoded data removed]",
            "text/plain": [
              "<Figure size 432x288 with 1 Axes>"
            ]
          },
          "metadata": {
            "tags": []
          }
        }
      ]
    },
    {
      "cell_type": "markdown",
      "metadata": {
        "id": "OTBToAVngkQq"
      },
      "source": [
        "## 초기값 설정 & iteration\n",
        "* 초기값 = 1/(N of sites)\n",
        "* Damping Factor = 0.85\n",
        "* iteration: 값이 변화하는 것을 확인하면서 안정화 시점의 iteration 횟수 확인\n",
        "\n",
        "## pr(A) 갱신 방법\n",
        "* pr(A) = (1-DF)/(페이지 전체 개수) + DF * ((A로 향하는 각 페이지의 현재 pr 값 / A로 향하는 페이지의 out link 개수) 들의 합)\n",
        "\n",
        "## 계산식\n",
        "$$G = Nework\\ Matrix\\ (2\\ dimension\\ array)$$\n",
        "$$pr(A) = DF \\times (G \\cdot (weight \\times outLink)) + \\frac{(1-DF)}{N}$$"
      ]
    },
    {
      "cell_type": "markdown",
      "metadata": {
        "id": "pXdiLvuY_RIV"
      },
      "source": [
        ""
      ]
    },
    {
      "cell_type": "code",
      "metadata": {
        "id": "1P_WMmvxgd48"
      },
      "source": [
        "# 초기값 설정\n",
        "DF = 0.85 # Damping factor\n",
        "N = len(G.nodes()) # 페이지 갯수\n",
        "g_arr # connected information (graph)\n",
        "site_rank = np.ones(N)/N # 초기 weight 분배 -> transpose\n",
        "out_link = np.ones(shape=(N,))"
      ],
      "execution_count": 8,
      "outputs": []
    },
    {
      "cell_type": "code",
      "metadata": {
        "id": "qKCMOEd48hYa"
      },
      "source": [
        "# in-link 갯수 array 만들기\n",
        "dict_sites = dict(zip(np.array(range(N)),sites)) # number와 site name을 매칭하기 위해 dictionary 형태로 zip으로 묶기\n",
        "for i in range(N):\n",
        "  out_link[i] = len(G.out_edges(dict_sites[i]))"
      ],
      "execution_count": 9,
      "outputs": []
    },
    {
      "cell_type": "code",
      "metadata": {
        "id": "f9xeVYiT5tvj",
        "outputId": "d5619ead-8e4f-43b8-a7db-92991aecc6d1",
        "colab": {
          "base_uri": "https://localhost:8080/",
          "height": 204
        }
      },
      "source": [
        "print('DF: {0}'.format(DF))\n",
        "print('Number of sites: {0}'.format(N))\n",
        "print('Network matrix:\\n {0}'.format(g_arr))\n",
        "print('Value of each node (init value): \\n {0}'.format(site_rank))\n",
        "print('Count of out-link of each node: \\n {0}'.format(dict(zip(sites,out_link))))"
      ],
      "execution_count": 10,
      "outputs": [
        {
          "output_type": "stream",
          "text": [
            "DF: 0.85\n",
            "Number of sites: 4\n",
            "Network matrix:\n",
            " [[0. 1. 1. 1.]\n",
            " [0. 0. 1. 1.]\n",
            " [1. 0. 0. 1.]\n",
            " [0. 0. 1. 0.]]\n",
            "Value of each node (init value): \n",
            " [0.25 0.25 0.25 0.25]\n",
            "Count of out-link of each node: \n",
            " {'A': 3.0, 'B': 2.0, 'C': 2.0, 'D': 1.0}\n"
          ],
          "name": "stdout"
        }
      ]
    },
    {
      "cell_type": "code",
      "metadata": {
        "id": "vQk1abJW5VkH",
        "outputId": "07e37492-5eb3-4ba8-cd60-224eb2117e3b",
        "colab": {
          "base_uri": "https://localhost:8080/",
          "height": 34
        }
      },
      "source": [
        "# before iteration\n",
        "site_rank"
      ],
      "execution_count": 11,
      "outputs": [
        {
          "output_type": "execute_result",
          "data": {
            "text/plain": [
              "array([0.25, 0.25, 0.25, 0.25])"
            ]
          },
          "metadata": {
            "tags": []
          },
          "execution_count": 11
        }
      ]
    },
    {
      "cell_type": "code",
      "metadata": {
        "id": "8DIqRwzgOOqd",
        "outputId": "3c97fbb6-a473-43c7-8f6d-9cccc797c42d",
        "colab": {
          "base_uri": "https://localhost:8080/",
          "height": 34
        }
      },
      "source": [
        "# 1st iteration\n",
        "site_rank = ((1-DF)*np.ones(N))/N + (DF*g_arr).dot(site_rank/out_link)\n",
        "print('Each Node value: {0}'.format(site_rank))"
      ],
      "execution_count": 12,
      "outputs": [
        {
          "output_type": "stream",
          "text": [
            "Each Node value: [0.4625     0.35625    0.32083333 0.14375   ]\n"
          ],
          "name": "stdout"
        }
      ]
    },
    {
      "cell_type": "code",
      "metadata": {
        "id": "bh5WfLNh5e4c",
        "outputId": "89f9f537-82b2-40f2-a98f-d2db3109e6c0",
        "colab": {
          "base_uri": "https://localhost:8080/",
          "height": 34
        }
      },
      "source": [
        "# 2nd iteration\n",
        "site_rank = ((1-DF)*np.ones(N))/N + (DF*g_arr).dot(site_rank/out_link)\n",
        "print('Each Node value: {0}'.format(site_rank))"
      ],
      "execution_count": 13,
      "outputs": [
        {
          "output_type": "stream",
          "text": [
            "Each Node value: [0.44744792 0.29604167 0.29072917 0.17385417]\n"
          ],
          "name": "stdout"
        }
      ]
    },
    {
      "cell_type": "code",
      "metadata": {
        "id": "vGD8z3W49GSw",
        "outputId": "8e660968-eb2a-4771-a559-59e56347341c",
        "colab": {
          "base_uri": "https://localhost:8080/",
          "height": 34
        }
      },
      "source": [
        "# 3rd iteration\n",
        "site_rank = ((1-DF)*np.ones(N))/N + (DF*g_arr).dot(site_rank/out_link)\n",
        "print('Each Node value: {0}'.format(site_rank))"
      ],
      "execution_count": 14,
      "outputs": [
        {
          "output_type": "stream",
          "text": [
            "Each Node value: [0.43465365 0.30883594 0.31205295 0.1610599 ]\n"
          ],
          "name": "stdout"
        }
      ]
    },
    {
      "cell_type": "code",
      "metadata": {
        "id": "7VSZej_v9N_R",
        "outputId": "e663be35-d6db-477a-ff45-e7f3b4a248ac",
        "colab": {
          "base_uri": "https://localhost:8080/",
          "height": 527
        }
      },
      "source": [
        "# iteration 별 결과 출력 (30회)\n",
        "i = 0\n",
        "site_rank = np.ones(N)/N \n",
        "for i in range(30):\n",
        "  i +=1\n",
        "  site_rank = ((1-DF)*np.ones(N))/N + (DF*g_arr).dot(site_rank/out_link)\n",
        "  print('Each Node value({0}): {1}'.format(i, site_rank))"
      ],
      "execution_count": 15,
      "outputs": [
        {
          "output_type": "stream",
          "text": [
            "Each Node value(1): [0.4625     0.35625    0.32083333 0.14375   ]\n",
            "Each Node value(2): [0.44744792 0.29604167 0.29072917 0.17385417]\n",
            "Each Node value(3): [0.43465365 0.30883594 0.31205295 0.1610599 ]\n",
            "Each Node value(4): [0.43827869 0.30702342 0.29755278 0.1701225 ]\n",
            "Each Node value(5): [0.43904901 0.30856406 0.30628309 0.16395993]\n",
            "Each Node value(6): [0.43817598 0.30703625 0.30126316 0.16767031]\n",
            "Each Node value(7): [0.43854702 0.30805661 0.30416963 0.16553684]\n",
            "Each Node value(8): [0.43840247 0.30747841 0.30246131 0.16677209]\n",
            "Each Node value(9): [0.43848066 0.30780233 0.30347031 0.16604605]\n",
            "Each Node value(10): [0.43843002 0.30761403 0.30287533 0.16647488]\n",
            "Each Node value(11): [0.43846163 0.30772567 0.30322549 0.16622202]\n",
            "Each Node value(12): [0.43844295 0.30765955 0.30301951 0.16637083]\n",
            "Each Node value(13): [0.43845381 0.3076985  0.30314071 0.16628329]\n",
            "Each Node value(14): [0.43844746 0.3076756  0.30306938 0.1663348 ]\n",
            "Each Node value(15): [0.4384512  0.30768907 0.30311136 0.16630448]\n",
            "Each Node value(16): [0.43844899 0.30768114 0.30308665 0.16632233]\n",
            "Each Node value(17): [0.43845029 0.30768581 0.30310119 0.16631183]\n",
            "Each Node value(18): [0.43844953 0.30768306 0.30309264 0.16631801]\n",
            "Each Node value(19): [0.43844998 0.30768468 0.30309767 0.16631437]\n",
            "Each Node value(20): [0.43844971 0.30768373 0.30309471 0.16631651]\n",
            "Each Node value(21): [0.43844987 0.30768429 0.30309645 0.16631525]\n",
            "Each Node value(22): [0.43844978 0.30768396 0.30309543 0.16631599]\n",
            "Each Node value(23): [0.43844983 0.30768415 0.30309603 0.16631556]\n",
            "Each Node value(24): [0.4384498  0.30768404 0.30309567 0.16631581]\n",
            "Each Node value(25): [0.43844982 0.3076841  0.30309588 0.16631566]\n",
            "Each Node value(26): [0.43844981 0.30768406 0.30309576 0.16631575]\n",
            "Each Node value(27): [0.43844981 0.30768409 0.30309583 0.1663157 ]\n",
            "Each Node value(28): [0.43844981 0.30768407 0.30309579 0.16631573]\n",
            "Each Node value(29): [0.43844981 0.30768408 0.30309582 0.16631571]\n",
            "Each Node value(30): [0.43844981 0.30768408 0.3030958  0.16631572]\n"
          ],
          "name": "stdout"
        }
      ]
    },
    {
      "cell_type": "markdown",
      "metadata": {
        "id": "R4HDOFoy-Lyi"
      },
      "source": [
        "# Function 구현"
      ]
    },
    {
      "cell_type": "code",
      "metadata": {
        "id": "OspUiHvc-LUm"
      },
      "source": [
        "def page_rank(Graph_Data, iter, damping_factor):\n",
        "  nodes = np.array(Graph_Data.nodes())\n",
        "  N = len(nodes) # 페이지 갯수\n",
        "  g_arr = nx.to_numpy_array(Graph_Data, nodelist=nodes)\n",
        "\n",
        "  nx.draw(Graph_Data, with_labels = True)\n",
        "  plt.show() # display\n",
        "\n",
        "  DF = damping_factor # Damping factor\n",
        "  \n",
        "  node_rank = np.ones(N)/N # 초기 weight 분배 -> transpose\n",
        "  out_link = np.ones(shape=(N,))\n",
        "\n",
        "  dict_nodes = dict(zip(np.array(range(N)),nodes)) # number와 site name을 매칭하기 위해 dictionary 형태로 zip으로 묶기\n",
        "  \n",
        "  for i in range(N):\n",
        "    out_link[i] = len(G.out_edges(dict_nodes[i]))\n",
        "  for i in range(iter):\n",
        "    i +=1\n",
        "    node_rank = ((1-DF)*np.ones(N))/N + (DF*g_arr).dot(node_rank/out_link)\n",
        "\n",
        "  max_where = np.where(node_rank == node_rank.max())\n",
        "  max_node = np.array(G.nodes())[max_where]\n",
        "\n",
        "  print('Node 갯수: {0}'.format(N))\n",
        "  print('Network matrix:\\n {0}'.format(g_arr))\n",
        "  print('Each Node value(iteration {0}): {1}'.format(iter, node_rank))\n",
        "  print('Highest Page Rank: {0}'.format(max_node))"
      ],
      "execution_count": 16,
      "outputs": []
    },
    {
      "cell_type": "code",
      "metadata": {
        "id": "m1h668cPEX8_",
        "outputId": "6326c12b-a733-4bcb-9e33-a674b4261d7d",
        "colab": {
          "base_uri": "https://localhost:8080/",
          "height": 472
        }
      },
      "source": [
        "# 새로운 5개 노드의 그래프를 넣어서 page_rank 알고리즘 작동하는지 테스트\n",
        "G=nx.DiGraph()\n",
        "sites = [\"A\",\"B\",\"C\",\"D\",\"E\"]\n",
        "G.add_nodes_from(sites)\n",
        "sites_edges = [('A','B'), ('A','C'),('A','D'), ('B','C'),('B','D'),('C','D'),('C','A'),('D','C'),('E','A'),('E','B'),('E','C'),('E','D')]\n",
        "G.add_edges_from(sites_edges)\n",
        "\n",
        "page_rank(G, 100, 0.8)"
      ],
      "execution_count": 17,
      "outputs": [
        {
          "output_type": "display_data",
          "data": {
            "image/png": "[encoded data removed]",
            "text/plain": [
              "<Figure size 432x288 with 1 Axes>"
            ]
          },
          "metadata": {
            "tags": []
          }
        },
        {
          "output_type": "stream",
          "text": [
            "Node 갯수: 5\n",
            "Network matrix:\n",
            " [[0. 1. 1. 1. 0.]\n",
            " [0. 0. 1. 1. 0.]\n",
            " [1. 0. 0. 1. 0.]\n",
            " [0. 0. 1. 0. 0.]\n",
            " [1. 1. 1. 1. 0.]]\n",
            "Each Node value(iteration 100): [0.34319066 0.24513619 0.24046693 0.13618677 0.43470817]\n",
            "Highest Page Rank: ['E']\n"
          ],
          "name": "stdout"
        }
      ]
    }
  ]
}