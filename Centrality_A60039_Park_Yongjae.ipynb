{
  "nbformat": 4,
  "nbformat_minor": 0,
  "metadata": {
    "colab": {
      "name": "Centrality - A60039 Park Yongjae.ipynb",
      "provenance": [],
      "collapsed_sections": [],
      "authorship_tag": "ABX9TyN+AkuCz3y2OWtKyttjhStS",
      "include_colab_link": true
    },
    "kernelspec": {
      "name": "python3",
      "display_name": "Python 3"
    }
  },
  "cells": [
    {
      "cell_type": "markdown",
      "metadata": {
        "id": "view-in-github",
        "colab_type": "text"
      },
      "source": [
        "<a href=\"https://colab.research.google.com/github/mapmatters/homework/blob/master/Centrality_A60039_Park_Yongjae.ipynb\" target=\"_parent\"><img src=\"https://colab.research.google.com/assets/colab-badge.svg\" alt=\"Open In Colab\"/></a>"
      ]
    },
    {
      "cell_type": "markdown",
      "metadata": {
        "id": "C8mPPkBAhzEf"
      },
      "source": [
        "library load"
      ]
    },
    {
      "cell_type": "code",
      "metadata": {
        "id": "wJEDuVKag9F2"
      },
      "source": [
        "import matplotlib.pyplot as plt\n",
        "import networkx as nx\n",
        "import numpy as np\n",
        "from numpy import linalg as LA\n",
        "import math as math"
      ],
      "execution_count": 2,
      "outputs": []
    },
    {
      "cell_type": "code",
      "metadata": {
        "id": "EYeOk6R9h4xD"
      },
      "source": [
        "# 분석 대상 매트릭스\n",
        "A = np.array(\n",
        "    [(0,1,1,1,0,0,0,0),\n",
        "     (1,0,0,1,1,0,0,0),\n",
        "     (1,0,0,0,0,1,1,1),\n",
        "     (1,1,0,0,1,0,0,0),\n",
        "     (0,1,0,1,0,0,0,0),\n",
        "     (0,0,1,0,0,0,1,0),\n",
        "     (0,0,1,0,0,1,0,1),\n",
        "     (0,0,1,0,0,0,1,0)]\n",
        ")"
      ],
      "execution_count": 3,
      "outputs": []
    },
    {
      "cell_type": "markdown",
      "metadata": {
        "id": "Vm4YgE0OhdX2"
      },
      "source": [
        "## Eigenvector Centrality"
      ]
    },
    {
      "cell_type": "code",
      "metadata": {
        "id": "GhxWhqwCh3Pq"
      },
      "source": [
        "w, v = LA.eig(A)"
      ],
      "execution_count": 17,
      "outputs": []
    },
    {
      "cell_type": "code",
      "metadata": {
        "colab": {
          "base_uri": "https://localhost:8080/",
          "height": 0
        },
        "id": "FCUezvl3RuUR",
        "outputId": "4391a571-eb04-454f-a686-519c056aed1e"
      },
      "source": [
        "print(w)\n",
        "print(v)"
      ],
      "execution_count": 18,
      "outputs": [
        {
          "output_type": "stream",
          "text": [
            "[ 2.87227621e+00  2.37032595e+00  2.03184884e-01 -2.00000000e+00\n",
            " -1.44578704e+00 -1.00000000e+00 -1.00000000e+00  2.77555756e-17]\n",
            "[[ 4.06316181e-01  2.27436977e-01 -6.54344311e-01  5.54700196e-01\n",
            "   2.17533440e-01 -4.85272477e-17  6.38284335e-17  4.51815269e-32]\n",
            " [ 3.45517431e-01  4.31929732e-01  6.14981381e-02 -2.77350098e-01\n",
            "  -2.04745554e-01  1.61402572e-01 -7.04198047e-01  2.27003571e-17]\n",
            " [ 4.76017440e-01 -3.24759698e-01 -2.55949149e-01 -5.54700196e-01\n",
            "   9.49840804e-02 -5.28820478e-01 -5.73603664e-03 -7.66306312e-17]\n",
            " [ 3.45517431e-01  4.31929732e-01  6.14981381e-02 -2.77350098e-01\n",
            "  -2.04745554e-01  3.67417906e-01  7.09934084e-01 -2.58670057e-17]\n",
            " [ 2.40587886e-01  3.64447542e-01  6.05341665e-01  2.77350098e-01\n",
            "   2.83230584e-01 -5.28820478e-01 -5.73603664e-03 -5.23445026e-17]\n",
            " [ 2.94924747e-01 -3.02490713e-01  1.57222468e-01  2.77350098e-01\n",
            "  -4.68910206e-01  6.95924621e-17  3.56124132e-16  7.07106781e-01]\n",
            " [ 3.71087895e-01 -3.92241888e-01  2.87894378e-01 -9.73736257e-17\n",
            "   5.82960219e-01  5.28820478e-01  5.73603664e-03  6.62222904e-17]\n",
            " [ 2.94924747e-01 -3.02490713e-01  1.57222468e-01  2.77350098e-01\n",
            "  -4.68910206e-01  1.80614765e-16  4.45007626e-17 -7.07106781e-01]]\n"
          ],
          "name": "stdout"
        }
      ]
    },
    {
      "cell_type": "code",
      "metadata": {
        "colab": {
          "base_uri": "https://localhost:8080/",
          "height": 0
        },
        "id": "b7c_-2QxSCwc",
        "outputId": "94a1adcd-03d2-4b81-a927-e26d62cd3fb6"
      },
      "source": [
        "max_ev = np.max(w)\n",
        "max_ev_idx = np.argmax(w)\n",
        "print(\"Max value of eigenvalue: {0} at index {1}\".format(max_ev, max_ev_idx))"
      ],
      "execution_count": 13,
      "outputs": [
        {
          "output_type": "stream",
          "text": [
            "Max value of eigenvalue: 2.872276212853181 at index 0\n"
          ],
          "name": "stdout"
        }
      ]
    },
    {
      "cell_type": "code",
      "metadata": {
        "colab": {
          "base_uri": "https://localhost:8080/",
          "height": 0
        },
        "id": "S-3X4SUfSzNA",
        "outputId": "8954dc74-380e-4434-8e0b-ab3269101b86"
      },
      "source": [
        "eigenvector = v.T[max_ev_idx]\n",
        "print(\"Eigenvector result: \\n {}\".format(eigenvector))"
      ],
      "execution_count": 24,
      "outputs": [
        {
          "output_type": "stream",
          "text": [
            "Eigenvector result: \n",
            " [0.40631618 0.34551743 0.47601744 0.34551743 0.24058789 0.29492475\n",
            " 0.37108789 0.29492475]\n"
          ],
          "name": "stdout"
        }
      ]
    },
    {
      "cell_type": "markdown",
      "metadata": {
        "id": "UGidmqvjhgch"
      },
      "source": [
        "## Closeness Centrality"
      ]
    },
    {
      "cell_type": "code",
      "metadata": {
        "id": "XUGM4bEAhiPE"
      },
      "source": [
        "G = nx.from_numpy_matrix(A)"
      ],
      "execution_count": 25,
      "outputs": []
    },
    {
      "cell_type": "code",
      "metadata": {
        "colab": {
          "base_uri": "https://localhost:8080/",
          "height": 0
        },
        "id": "aXZDU5KPZNLZ",
        "outputId": "191b2929-3e2d-470b-89cb-085c632a85c7"
      },
      "source": [
        "print(G.nodes)\n",
        "print(G.edges)"
      ],
      "execution_count": 31,
      "outputs": [
        {
          "output_type": "stream",
          "text": [
            "[0, 1, 2, 3, 4, 5, 6, 7]\n",
            "[(0, 1), (0, 2), (0, 3), (1, 3), (1, 4), (2, 5), (2, 6), (2, 7), (3, 4), (5, 6), (6, 7)]\n"
          ],
          "name": "stdout"
        }
      ]
    },
    {
      "cell_type": "markdown",
      "metadata": {
        "id": "6RCYGiKCb1KZ"
      },
      "source": [
        "using networkX function (nx.closeness_centrality)"
      ]
    },
    {
      "cell_type": "code",
      "metadata": {
        "colab": {
          "base_uri": "https://localhost:8080/",
          "height": 0
        },
        "id": "Q2zbjvCRZOZE",
        "outputId": "b2213401-cba5-4dae-d8a3-85c7aedf65f9"
      },
      "source": [
        "close_centrality = nx.closeness_centrality(G) \n",
        "print(close_centrality)"
      ],
      "execution_count": 103,
      "outputs": [
        {
          "output_type": "stream",
          "text": [
            "{0: 0.6363636363636364, 1: 0.5, 2: 0.6363636363636364, 3: 0.5, 4: 0.3684210526315789, 5: 0.4375, 6: 0.4666666666666667, 7: 0.4375}\n"
          ],
          "name": "stdout"
        }
      ]
    },
    {
      "cell_type": "markdown",
      "metadata": {
        "id": "OsgmZZoxb3jI"
      },
      "source": [
        "하나씩 iteration 하면서 구하기"
      ]
    },
    {
      "cell_type": "code",
      "metadata": {
        "colab": {
          "base_uri": "https://localhost:8080/",
          "height": 0
        },
        "id": "QpGbrW-vd0il",
        "outputId": "2f7bda0a-a802-4f9e-b649-30ac3830c47c"
      },
      "source": [
        "# node 갯수\n",
        "n = len(list(G.nodes))\n",
        "print(n-1)"
      ],
      "execution_count": 104,
      "outputs": [
        {
          "output_type": "stream",
          "text": [
            "7\n"
          ],
          "name": "stdout"
        }
      ]
    },
    {
      "cell_type": "code",
      "metadata": {
        "colab": {
          "base_uri": "https://localhost:8080/",
          "height": 0
        },
        "id": "eZlSEwWfZsGL",
        "outputId": "5f97ab33-c20f-4031-8b00-07cf2689c766"
      },
      "source": [
        "# 각 노드 간 shortest path 구하기\n",
        "paths = dict(nx.all_pairs_shortest_path_length(G))\n",
        "for key, value in paths.items():\n",
        "  print(key, value)"
      ],
      "execution_count": 105,
      "outputs": [
        {
          "output_type": "stream",
          "text": [
            "0 {0: 0, 1: 1, 2: 1, 3: 1, 4: 2, 5: 2, 6: 2, 7: 2}\n",
            "1 {1: 0, 0: 1, 3: 1, 4: 1, 2: 2, 5: 3, 6: 3, 7: 3}\n",
            "2 {2: 0, 0: 1, 5: 1, 6: 1, 7: 1, 1: 2, 3: 2, 4: 3}\n",
            "3 {3: 0, 0: 1, 1: 1, 4: 1, 2: 2, 5: 3, 6: 3, 7: 3}\n",
            "4 {4: 0, 1: 1, 3: 1, 0: 2, 2: 3, 5: 4, 6: 4, 7: 4}\n",
            "5 {5: 0, 2: 1, 6: 1, 0: 2, 7: 2, 1: 3, 3: 3, 4: 4}\n",
            "6 {6: 0, 2: 1, 5: 1, 7: 1, 0: 2, 1: 3, 3: 3, 4: 4}\n",
            "7 {7: 0, 2: 1, 6: 1, 0: 2, 5: 2, 1: 3, 3: 3, 4: 4}\n"
          ],
          "name": "stdout"
        }
      ]
    },
    {
      "cell_type": "code",
      "metadata": {
        "colab": {
          "base_uri": "https://localhost:8080/",
          "height": 0
        },
        "id": "plh5mQFgfyeA",
        "outputId": "9aa7935a-c277-40f3-e4c6-bf8b09832308"
      },
      "source": [
        "result = dict()\n",
        "for num in range(n):\n",
        "  values = list(list(length.items())[num][1].values())\n",
        "  sum_val = sum(values)\n",
        "  each_closeness_centrality = (n-1)/sum_val\n",
        "  print(num, values)\n",
        "  result.update({num: each_closeness_centrality})"
      ],
      "execution_count": 114,
      "outputs": [
        {
          "output_type": "stream",
          "text": [
            "0 [0, 1, 1, 1, 2, 2, 2, 2]\n",
            "1 [0, 1, 1, 1, 2, 3, 3, 3]\n",
            "2 [0, 1, 1, 1, 1, 2, 2, 3]\n",
            "3 [0, 1, 1, 1, 2, 3, 3, 3]\n",
            "4 [0, 1, 1, 2, 3, 4, 4, 4]\n",
            "5 [0, 1, 1, 2, 2, 3, 3, 4]\n",
            "6 [0, 1, 1, 1, 2, 3, 3, 4]\n",
            "7 [0, 1, 1, 2, 2, 3, 3, 4]\n"
          ],
          "name": "stdout"
        }
      ]
    },
    {
      "cell_type": "code",
      "metadata": {
        "colab": {
          "base_uri": "https://localhost:8080/",
          "height": 0
        },
        "id": "PKjip5EXipWE",
        "outputId": "b431a5f5-898e-4bc5-84e5-4249e6a39662"
      },
      "source": [
        "result"
      ],
      "execution_count": 115,
      "outputs": [
        {
          "output_type": "execute_result",
          "data": {
            "text/plain": [
              "{0: 0.6363636363636364,\n",
              " 1: 0.5,\n",
              " 2: 0.6363636363636364,\n",
              " 3: 0.5,\n",
              " 4: 0.3684210526315789,\n",
              " 5: 0.4375,\n",
              " 6: 0.4666666666666667,\n",
              " 7: 0.4375}"
            ]
          },
          "metadata": {
            "tags": []
          },
          "execution_count": 115
        }
      ]
    },
    {
      "cell_type": "code",
      "metadata": {
        "colab": {
          "base_uri": "https://localhost:8080/",
          "height": 0
        },
        "id": "Kv1k_vymbqHi",
        "outputId": "6f9227fa-aa11-4406-d889-224483eaa831"
      },
      "source": [
        "for key, val in result.items():\n",
        "  print(key, val)"
      ],
      "execution_count": 116,
      "outputs": [
        {
          "output_type": "stream",
          "text": [
            "0 0.6363636363636364\n",
            "1 0.5\n",
            "2 0.6363636363636364\n",
            "3 0.5\n",
            "4 0.3684210526315789\n",
            "5 0.4375\n",
            "6 0.4666666666666667\n",
            "7 0.4375\n"
          ],
          "name": "stdout"
        }
      ]
    },
    {
      "cell_type": "markdown",
      "metadata": {
        "id": "f67KpdVviSSv"
      },
      "source": [
        "library 활용 & 직접계산 결과 비교"
      ]
    },
    {
      "cell_type": "code",
      "metadata": {
        "colab": {
          "base_uri": "https://localhost:8080/",
          "height": 0
        },
        "id": "nrcZT-Yhc56-",
        "outputId": "dcb7876c-fb75-43b8-d4ad-4eaa289cf9e7"
      },
      "source": [
        "print(\"from networkx library: \\n {} \\n\".format(close_centrality))\n",
        "print(\"from directly calculation: \\n {}\".format(result))\n"
      ],
      "execution_count": 118,
      "outputs": [
        {
          "output_type": "stream",
          "text": [
            "from networkx library: \n",
            " {0: 0.6363636363636364, 1: 0.5, 2: 0.6363636363636364, 3: 0.5, 4: 0.3684210526315789, 5: 0.4375, 6: 0.4666666666666667, 7: 0.4375} \n",
            "\n",
            "from directly calculation: \n",
            " {0: 0.6363636363636364, 1: 0.5, 2: 0.6363636363636364, 3: 0.5, 4: 0.3684210526315789, 5: 0.4375, 6: 0.4666666666666667, 7: 0.4375}\n"
          ],
          "name": "stdout"
        }
      ]
    },
    {
      "cell_type": "code",
      "metadata": {
        "id": "0l6QLbuijO9h"
      },
      "source": [
        ""
      ],
      "execution_count": null,
      "outputs": []
    }
  ]
}